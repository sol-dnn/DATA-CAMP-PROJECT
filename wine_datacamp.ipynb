{
 "cells": [
  {
   "cell_type": "markdown",
   "metadata": {},
   "source": [
    "## **Data Challenge** :  Wine tasting competition"
   ]
  },
  {
   "cell_type": "markdown",
   "metadata": {},
   "source": [
    "*Solal Danan / sol-dnn*\n",
    "\n",
    "*Gaspard Blaise / gaspardblaise*\n",
    "\n",
    "*Lucas Aljancic / lucasaljc*\n",
    "\n",
    "*Vincent Lagarde / vincent-lagarde*\n",
    "\n",
    "*Gregoire Mourre / gregoiremrr*\n",
    "\n",
    "*Marceau Leclerc / marssoo*"
   ]
  },
  {
   "cell_type": "markdown",
   "metadata": {},
   "source": [
    "Oenology, the science and study of wine, is a field that combines tradition, expertise, and sensory analysis. France is a global leader in wine production and represents a tenth of world production. Moreover, the wine industry represents nearly 450,000 jobs in France. Renowned for its historic terroirs, exceptional wines, and culinary artistry, France is also celebrated for its mastery of sommelier expertise.\n"
   ]
  },
  {
   "cell_type": "markdown",
   "metadata": {},
   "source": [
    "\n",
    "<div style=\"display: flex; justify-content: center;\">\n",
    "    <img src=\"img/4.jpg\" alt=\"Image 3\" style=\"width:30%\">\n",
    "</div>"
   ]
  },
  {
   "cell_type": "markdown",
   "metadata": {},
   "source": [
    "Each year, wine enlightened enthusiasts and professional sommeliers compete in blind tasting competitions, where the goal is to identify key characteristics of a wine, such as its region, sub-region, grape variety, appellation, vintage, and even the estate. Participants rely on their extensive knowledge and sensory training to evaluate attributes like acidity, bitterness, tannins, color intensity, texture, and aromatic markers. For instance, a wine with pronounced lemon and hydrocarbon aromas, coupled with high acidity, is likely a Riesling from Alsace."
   ]
  },
  {
   "cell_type": "markdown",
   "metadata": {},
   "source": [
    "\n",
    "<div style=\"display: flex; justify-content: center;\">\n",
    "    <img src=\"img/3.jpg\" alt=\"Image 3\" style=\"width:40%\">\n",
    "    <img src=\"img/6.jpg\" alt=\"Image 3\" style=\"width:40%\">\n",
    "</div>"
   ]
  },
  {
   "cell_type": "markdown",
   "metadata": {},
   "source": [
    "Inspired by this tradition, we present a Data Challenge that bridges the worlds of oenology and data science. The objective is to train a model capable of predicting the origin of a wine based on its characteristics. Using [Vivino](Vivino.com), a popular app where wine enthusiasts rate and review wines, participants will analyze various features and tasting notes to classify wines by region. This challenge is a classification problem, where the goal is to accurately determine the wine's origin."
   ]
  },
  {
   "cell_type": "markdown",
   "metadata": {},
   "source": [
    "## **DATASET PRESENTATION**"
   ]
  },
  {
   "cell_type": "markdown",
   "metadata": {},
   "source": [
    "The data was obtained scraping a variety of page types on the [vivino website](vivino.com). Here is an overview of the process we went through to obtain the final dataset :\n",
    "- First we selected regions of interest, that would end up being our classes, such as Bourgogne. \n",
    "- For each of these regions, we scrapped all the wines we could, ending up with a file containing URLs to 9838 wine pages.\n",
    "- For each of these wine pages, we scrapped all its reviews, including the comment and other relevant information such as the number of likes, if available. We also saved the URLs of the profile providing the comment.\n",
    "- Using the profiles' URLs, we scrapped other relevant informations regarding the reviewers, such as their rankings and bumber of followers.\n",
    "- We merged all this information in a single `.tsv` file that can be loaded as below.\n",
    "\n",
    "The scrapping proved to be tough, requiring a total of 3 main scrapping scripts (one for every step). It was done using selenium in an under-optimized way at first (to scrap the wines and their reviews, which took about 12 hours using 2 computers). Later on when scrapping the users' profiles we encountered a new difficulty, our IP adresses being blocked very quickly after a hundred requests. As a results, we reworked our last scrapping script to detect when we get blocked, in order to trigger a rotation in IP adress using a VPN. This last leg was also run on 2 laptops, under 8 hours total.\n",
    "\n",
    "As a result of these difficulties and in addition to our scripts relying on computer-specific parameters (resolution for scrolling, for instance) and on manual merging of the data, we prefered not to include the code that was used to scrap this data. It has to be stressed however that all the data provided here is indeed public.\n",
    "\n",
    "In the end, we provide a dataset comprising 100,686 reviews on a total of 9838 wines."
   ]
  },
  {
   "cell_type": "code",
   "execution_count": 14,
   "metadata": {},
   "outputs": [
    {
     "data": {
      "text/html": [
       "<div>\n",
       "<style scoped>\n",
       "    .dataframe tbody tr th:only-of-type {\n",
       "        vertical-align: middle;\n",
       "    }\n",
       "\n",
       "    .dataframe tbody tr th {\n",
       "        vertical-align: top;\n",
       "    }\n",
       "\n",
       "    .dataframe thead th {\n",
       "        text-align: right;\n",
       "    }\n",
       "</style>\n",
       "<table border=\"1\" class=\"dataframe\">\n",
       "  <thead>\n",
       "    <tr style=\"text-align: right;\">\n",
       "      <th></th>\n",
       "      <th>region</th>\n",
       "      <th>wine_id</th>\n",
       "      <th>rating</th>\n",
       "      <th>vintage</th>\n",
       "      <th>comment</th>\n",
       "      <th>user</th>\n",
       "      <th>publication_date</th>\n",
       "      <th>likes</th>\n",
       "      <th>URL</th>\n",
       "      <th>Name</th>\n",
       "      <th>Country</th>\n",
       "      <th>Notes</th>\n",
       "      <th>Ranking in PT</th>\n",
       "      <th>Followers</th>\n",
       "      <th>Following</th>\n",
       "    </tr>\n",
       "  </thead>\n",
       "  <tbody>\n",
       "    <tr>\n",
       "      <th>0</th>\n",
       "      <td>Bordeaux</td>\n",
       "      <td>1</td>\n",
       "      <td>5.0</td>\n",
       "      <td>2011.0</td>\n",
       "      <td>adore this wine. full. smoky but with less ear...</td>\n",
       "      <td>Sean Howell (540 ratings)</td>\n",
       "      <td>Feb 6, 2018</td>\n",
       "      <td>3.0</td>\n",
       "      <td>https://www.vivino.com/users/sean-howe</td>\n",
       "      <td>Sean Howell</td>\n",
       "      <td>NaN</td>\n",
       "      <td>540.0</td>\n",
       "      <td>17249.0</td>\n",
       "      <td>63</td>\n",
       "      <td>172</td>\n",
       "    </tr>\n",
       "    <tr>\n",
       "      <th>1</th>\n",
       "      <td>Bordeaux</td>\n",
       "      <td>1</td>\n",
       "      <td>4.5</td>\n",
       "      <td>2011.0</td>\n",
       "      <td>interesting introduction to this wine. earthy ...</td>\n",
       "      <td>Sam Ong (402 ratings)</td>\n",
       "      <td>Nov 2, 2017</td>\n",
       "      <td>6.0</td>\n",
       "      <td>https://www.vivino.com/users/m5fcd464729e44ae9...</td>\n",
       "      <td>Sam Ong</td>\n",
       "      <td>Philippines</td>\n",
       "      <td>402.0</td>\n",
       "      <td>0.0</td>\n",
       "      <td>43</td>\n",
       "      <td>17</td>\n",
       "    </tr>\n",
       "    <tr>\n",
       "      <th>2</th>\n",
       "      <td>Bordeaux</td>\n",
       "      <td>1</td>\n",
       "      <td>4.0</td>\n",
       "      <td>NaN</td>\n",
       "      <td>XXX high acidity , dark colors hints of black ...</td>\n",
       "      <td>Sherief Nazif (555 ratings)</td>\n",
       "      <td>Jan 8, 2023</td>\n",
       "      <td>2.0</td>\n",
       "      <td>https://www.vivino.com/users/sherief.nazif</td>\n",
       "      <td>Sherief Nazif</td>\n",
       "      <td>Egypt</td>\n",
       "      <td>596.0</td>\n",
       "      <td>2.0</td>\n",
       "      <td>32</td>\n",
       "      <td>10</td>\n",
       "    </tr>\n",
       "    <tr>\n",
       "      <th>3</th>\n",
       "      <td>Bordeaux</td>\n",
       "      <td>1</td>\n",
       "      <td>4.5</td>\n",
       "      <td>2011.0</td>\n",
       "      <td>the perfect XXX</td>\n",
       "      <td>Winter (178 ratings)</td>\n",
       "      <td>Oct 26, 2022</td>\n",
       "      <td>0.0</td>\n",
       "      <td>https://www.vivino.com/users/wonbeen.kim</td>\n",
       "      <td>Winter</td>\n",
       "      <td>France</td>\n",
       "      <td>178.0</td>\n",
       "      <td>0.0</td>\n",
       "      <td>0</td>\n",
       "      <td>0</td>\n",
       "    </tr>\n",
       "    <tr>\n",
       "      <th>4</th>\n",
       "      <td>Bordeaux</td>\n",
       "      <td>1</td>\n",
       "      <td>5.0</td>\n",
       "      <td>2011.0</td>\n",
       "      <td>full bodied, rich, smooth</td>\n",
       "      <td>Mimi Cheng (211 ratings)</td>\n",
       "      <td>Sep 4, 2017</td>\n",
       "      <td>0.0</td>\n",
       "      <td>https://www.vivino.com/users/mimi.chen</td>\n",
       "      <td>Mimi Cheng</td>\n",
       "      <td>NaN</td>\n",
       "      <td>212.0</td>\n",
       "      <td>42985.0</td>\n",
       "      <td>3</td>\n",
       "      <td>1</td>\n",
       "    </tr>\n",
       "  </tbody>\n",
       "</table>\n",
       "</div>"
      ],
      "text/plain": [
       "     region  wine_id  rating  vintage  \\\n",
       "0  Bordeaux        1     5.0   2011.0   \n",
       "1  Bordeaux        1     4.5   2011.0   \n",
       "2  Bordeaux        1     4.0      NaN   \n",
       "3  Bordeaux        1     4.5   2011.0   \n",
       "4  Bordeaux        1     5.0   2011.0   \n",
       "\n",
       "                                             comment  \\\n",
       "0  adore this wine. full. smoky but with less ear...   \n",
       "1  interesting introduction to this wine. earthy ...   \n",
       "2  XXX high acidity , dark colors hints of black ...   \n",
       "3                                    the perfect XXX   \n",
       "4                          full bodied, rich, smooth   \n",
       "\n",
       "                          user publication_date  likes  \\\n",
       "0    Sean Howell (540 ratings)      Feb 6, 2018    3.0   \n",
       "1        Sam Ong (402 ratings)      Nov 2, 2017    6.0   \n",
       "2  Sherief Nazif (555 ratings)      Jan 8, 2023    2.0   \n",
       "3         Winter (178 ratings)     Oct 26, 2022    0.0   \n",
       "4     Mimi Cheng (211 ratings)      Sep 4, 2017    0.0   \n",
       "\n",
       "                                                 URL           Name  \\\n",
       "0             https://www.vivino.com/users/sean-howe    Sean Howell   \n",
       "1  https://www.vivino.com/users/m5fcd464729e44ae9...        Sam Ong   \n",
       "2         https://www.vivino.com/users/sherief.nazif  Sherief Nazif   \n",
       "3           https://www.vivino.com/users/wonbeen.kim         Winter   \n",
       "4             https://www.vivino.com/users/mimi.chen     Mimi Cheng   \n",
       "\n",
       "       Country  Notes  Ranking in PT  Followers  Following  \n",
       "0          NaN  540.0        17249.0         63        172  \n",
       "1  Philippines  402.0            0.0         43         17  \n",
       "2        Egypt  596.0            2.0         32         10  \n",
       "3       France  178.0            0.0          0          0  \n",
       "4          NaN  212.0        42985.0          3          1  "
      ]
     },
     "execution_count": 14,
     "metadata": {},
     "output_type": "execute_result"
    }
   ],
   "source": [
    "import pandas as pd\n",
    "\n",
    "# Read the tsv file\n",
    "data = pd.read_csv('data/data_vivino.tsv', delimiter='\\t')\n",
    "data.head()"
   ]
  },
  {
   "cell_type": "markdown",
   "metadata": {},
   "source": [
    "### **Features Overview**\n",
    "\n",
    "Each row in the dataset corresponds to a wine review on Vivino. Below is a detailed description of the columns:\n",
    "\n",
    "- **region**: This is the target variable we aim to predict. There are 11 distinct regions in the dataset, each with varying occurrence frequencies.\n",
    "\n",
    "- **wine_id**: This column uniquely identifies a wine. Multiple rows may refer to the same wine if it has received multiple reviews from different users.\n",
    "\n",
    "- **rating**: This is a user-assigned rating on a 5-point scale. A score of 5 indicates that the user highly enjoyed the wine.\n",
    "\n",
    "- **vintage**: This represents the vintage of the wine, i.e., the year the grapes were harvested to produce the wine.\n",
    "\n",
    "- **comment**: This is the user's review of the wine. Any information directly referencing a region has been censored. However, the comments may still contain valuable insights about the wine's characteristics that can help deduce its region.\n",
    "\n",
    "- **user**: This refers to the Vivino user profile of the individual who left the review.\n",
    "\n",
    "- **publication_date**: The date when the review was published.\n",
    "\n",
    "- **likes**: The number of likes the review received from other Vivino users.\n",
    "\n",
    "- **URL**: The full review page can be accessed via this URL.\n",
    "\n",
    "- **Name**: The username of the Vivino user who left the review.\n",
    "\n",
    "- **Country**: The country of the Vivino user.\n",
    "\n",
    "- **Notes**: The total number of reviews the user has made on Vivino, reflecting their experience on the platform.\n",
    "\n",
    "- **Ranking in PT**: The user's ranking as provided by Vivino.\n",
    "\n",
    "- **Followers**: The number of followers the user has.\n",
    "\n",
    "- **Following**: The number of users the user is following."
   ]
  },
  {
   "cell_type": "code",
   "execution_count": 2,
   "metadata": {},
   "outputs": [
    {
     "data": {
      "image/png": "[encoded data removed]",
      "text/plain": [
       "<Figure size 640x480 with 1 Axes>"
      ]
     },
     "metadata": {},
     "output_type": "display_data"
    }
   ],
   "source": [
    "import matplotlib.pyplot as plt\n",
    "# Distribution of ratings\n",
    "data.rating.value_counts().sort_index().plot(kind='bar')\n",
    "plt.xlabel('Ratings')\n",
    "plt.ylabel('Frequency')\n",
    "plt.title('Distribution of Ratings')\n",
    "plt.show()"
   ]
  },
  {
   "cell_type": "code",
   "execution_count": 3,
   "metadata": {},
   "outputs": [
    {
     "data": {
      "image/png": "[encoded data removed]",
      "text/plain": [
       "<Figure size 640x480 with 1 Axes>"
      ]
     },
     "metadata": {},
     "output_type": "display_data"
    }
   ],
   "source": [
    "# Distribution of followers\n",
    "plt.hist(data['Followers'], bins=100, range=(0, 1000))\n",
    "plt.xlabel('Number of Followers')\n",
    "plt.ylabel('Frequency')\n",
    "plt.title('Distribution of Number of Followers')\n",
    "plt.show()"
   ]
  },
  {
   "cell_type": "code",
   "execution_count": 4,
   "metadata": {},
   "outputs": [
    {
     "data": {
      "image/png": "[encoded data removed]",
      "text/plain": [
       "<Figure size 640x480 with 1 Axes>"
      ]
     },
     "metadata": {},
     "output_type": "display_data"
    }
   ],
   "source": [
    "# Distribution of Notes\n",
    "plt.hist(data['Notes'], bins=100, range=(0, 10000))\n",
    "plt.xlabel('Number of Notes')\n",
    "plt.ylabel('Frequency')\n",
    "plt.title('Distribution of Notes')\n",
    "plt.show()"
   ]
  },
  {
   "cell_type": "markdown",
   "metadata": {},
   "source": [
    "## Important feature : Tasting comments"
   ]
  },
  {
   "cell_type": "code",
   "execution_count": 5,
   "metadata": {},
   "outputs": [
    {
     "data": {
      "text/html": [
       "<div>\n",
       "<style scoped>\n",
       "    .dataframe tbody tr th:only-of-type {\n",
       "        vertical-align: middle;\n",
       "    }\n",
       "\n",
       "    .dataframe tbody tr th {\n",
       "        vertical-align: top;\n",
       "    }\n",
       "\n",
       "    .dataframe thead th {\n",
       "        text-align: right;\n",
       "    }\n",
       "</style>\n",
       "<table border=\"1\" class=\"dataframe\">\n",
       "  <thead>\n",
       "    <tr style=\"text-align: right;\">\n",
       "      <th></th>\n",
       "      <th>comment</th>\n",
       "    </tr>\n",
       "  </thead>\n",
       "  <tbody>\n",
       "    <tr>\n",
       "      <th>0</th>\n",
       "      <td>fantastic XXX perfumed nose typically XXX XXX notes of lychees tropical fruit and honeycomb. medium plus acidity long fruity sweet finish</td>\n",
       "    </tr>\n",
       "    <tr>\n",
       "      <th>1</th>\n",
       "      <td>sweet succulent honey nose. palate is sweet, as expected with peach honey pear lychee. excellent wine</td>\n",
       "    </tr>\n",
       "    <tr>\n",
       "      <th>2</th>\n",
       "      <td>floral notes, lime, citrus, fairly sweet and light, enjoyable fresh and easy drinking</td>\n",
       "    </tr>\n",
       "    <tr>\n",
       "      <th>3</th>\n",
       "      <td>we love this. a family fave</td>\n",
       "    </tr>\n",
       "    <tr>\n",
       "      <th>4</th>\n",
       "      <td>excellent wine. i said 4, 'er indoors said '4 or more' hence 4.1. the wine list in the restaurant where we had it (sabai sabai) said 'lychee, rose, pepper'. completely agree, whilst clarifying 'pepper' as 'white' and adding a touch of lime; almost like a weak (in a good wXXX) margarita. great with thai food.</td>\n",
       "    </tr>\n",
       "  </tbody>\n",
       "</table>\n",
       "</div>"
      ],
      "text/plain": [
       "                                                                                                                                                                                                                                                                                                                 comment\n",
       "0                                                                                                                                                                              fantastic XXX perfumed nose typically XXX XXX notes of lychees tropical fruit and honeycomb. medium plus acidity long fruity sweet finish\n",
       "1                                                                                                                                                                                                                  sweet succulent honey nose. palate is sweet, as expected with peach honey pear lychee. excellent wine\n",
       "2                                                                                                                                                                                                                                  floral notes, lime, citrus, fairly sweet and light, enjoyable fresh and easy drinking\n",
       "3                                                                                                                                                                                                                                                                                            we love this. a family fave\n",
       "4  excellent wine. i said 4, 'er indoors said '4 or more' hence 4.1. the wine list in the restaurant where we had it (sabai sabai) said 'lychee, rose, pepper'. completely agree, whilst clarifying 'pepper' as 'white' and adding a touch of lime; almost like a weak (in a good wXXX) margarita. great with thai food."
      ]
     },
     "execution_count": 5,
     "metadata": {},
     "output_type": "execute_result"
    }
   ],
   "source": [
    "df_comments = pd.DataFrame(data[\"comment\"], columns=[\"comment\"])\n",
    "pd.set_option('display.max_colwidth', None)\n",
    "df_comments.head()\n"
   ]
  },
  {
   "cell_type": "markdown",
   "metadata": {},
   "source": [
    "## Target : Predict the region (11 classes)"
   ]
  },
  {
   "cell_type": "code",
   "execution_count": 6,
   "metadata": {},
   "outputs": [
    {
     "data": {
      "text/plain": [
       "region\n",
       "Bordeaux                33028\n",
       "Bourgogne               15723\n",
       "Vallee du Rhone         13126\n",
       "Languedoc-Roussillon    11648\n",
       "Vallee de la Loire       9946\n",
       "Alsace                   5137\n",
       "Champagne                3779\n",
       "Provence                 3664\n",
       "Sud Ouest                3506\n",
       "Corse                     669\n",
       "Savoie                    460\n",
       "Name: count, dtype: int64"
      ]
     },
     "execution_count": 6,
     "metadata": {},
     "output_type": "execute_result"
    }
   ],
   "source": [
    "# Display the contents of the dataframe\n",
    "data[\"region\"].value_counts()"
   ]
  },
  {
   "cell_type": "markdown",
   "metadata": {},
   "source": [
    "## **EVALUATION METRIC**"
   ]
  },
  {
   "cell_type": "markdown",
   "metadata": {},
   "source": [
    "# Balanced Accuracy Score - `scikit-learn`\n",
    "\n",
    "# Definition  \n",
    "The **Balanced Accuracy Score** is a metric used to evaluate classification models, particularly when dealing with **imbalanced classes**. It is defined as the average of the **recall per class** over all classes.\n",
    "\n",
    "# Formula  \n",
    "For a multi-class classification problem with $C$ classes and its corresponding confusion matrix, the **Balanced Accuracy** is given by:\n",
    "\n",
    "$$\n",
    "\\text{Balanced Accuracy} = \\frac{1}{C} \\sum_{i=1}^{C} \\frac{\\text{TP}_i}{\\text{TP}_i + \\text{FN}_i}\n",
    "$$\n",
    "\n",
    "where:  \n",
    "- $ \\text{TP}_i $ (True Positives) is the number of correctly classified instances of class $ i $.\n",
    "- $ \\text{FN}_i $ (False Negatives) is the number of instances of class $i $ misclassified into another class.\n",
    "\n",
    "\n",
    "# Comparison with Standard Accuracy  \n",
    "Unlike **regular accuracy**, which can be misleading in the presence of imbalanced data, **Balanced Accuracy** ensures that each class contributes equally to the final score.\n",
    "\n",
    "# Implementation in `scikit-learn`  \n",
    "In Python, you can compute this metric using `balanced_accuracy_score`:\n",
    "\n",
    "```python\n",
    "from sklearn.metrics import balanced_accuracy_score\n",
    "\n",
    "y_true = [0, 1, 1, 0, 1, 1, 0, 0, 1, 0]\n",
    "y_pred = [0, 1, 0, 0, 1, 1, 1, 0, 1, 1]\n",
    "\n",
    "score = balanced_accuracy_score(y_true, y_pred)\n",
    "print(f\"Balanced Accuracy: {score:.4f}\")\n"
   ]
  },
  {
   "cell_type": "markdown",
   "metadata": {},
   "source": [
    "## **BASELINE**"
   ]
  },
  {
   "cell_type": "code",
   "execution_count": 7,
   "metadata": {},
   "outputs": [],
   "source": [
    "import pandas as pd\n",
    "import torch\n",
    "import numpy as np\n",
    "import matplotlib.pyplot as plt\n",
    "from sklearn import model_selection\n",
    "from sklearn.metrics import balanced_accuracy_score\n",
    "from sklearn.model_selection import train_test_split\n",
    "from sklearn.preprocessing import LabelEncoder"
   ]
  },
  {
   "cell_type": "markdown",
   "metadata": {},
   "source": [
    "# Encoding Regions"
   ]
  },
  {
   "cell_type": "code",
   "execution_count": 8,
   "metadata": {},
   "outputs": [],
   "source": [
    "label_encoder = LabelEncoder()\n",
    "data[\"region_encoded\"] = label_encoder.fit_transform(data[\"region\"])"
   ]
  },
  {
   "cell_type": "markdown",
   "metadata": {},
   "source": [
    "# Data split"
   ]
  },
  {
   "cell_type": "code",
   "execution_count": 9,
   "metadata": {},
   "outputs": [],
   "source": [
    "X = data.drop(columns=[\"region\", \"region_encoded\"])\n",
    "y = data[\"region_encoded\"]\n",
    "X_train, X_test, y_train, y_test = train_test_split(X, y, test_size=0.2, random_state=42)\n"
   ]
  },
  {
   "cell_type": "markdown",
   "metadata": {},
   "source": [
    "# Model 1 : Random proportional model"
   ]
  },
  {
   "cell_type": "code",
   "execution_count": 10,
   "metadata": {},
   "outputs": [
    {
     "name": "stdout",
     "output_type": "stream",
     "text": [
      "0.09229913160576513\n"
     ]
    }
   ],
   "source": [
    "# Calculate classes proportions on y_train\n",
    "unique_classes, class_counts = np.unique(y_train, return_counts=True)\n",
    "class_proportions = class_counts / len(y_train)\n",
    "\n",
    "# Generate random predictions w.r.t the proportions\n",
    "y_pred_weighted_random = np.random.choice(unique_classes, size=len(y_test), p=class_proportions)\n",
    "\n",
    "# Evatuation (Balanced Accuracy)\n",
    "balanced_acc_weighted_random = balanced_accuracy_score(y_test, y_pred_weighted_random)\n",
    "print(balanced_acc_weighted_random)"
   ]
  },
  {
   "cell_type": "markdown",
   "metadata": {},
   "source": [
    "# Model 2 : We predict the most frequent region only"
   ]
  },
  {
   "cell_type": "code",
   "execution_count": 11,
   "metadata": {},
   "outputs": [
    {
     "name": "stdout",
     "output_type": "stream",
     "text": [
      "0.09090909090909091\n"
     ]
    }
   ],
   "source": [
    "from collections import Counter\n",
    "\n",
    "# Modèle basé sur la région la plus fréquente\n",
    "most_common_region = Counter(y_train).most_common(1)[0][0]\n",
    "y_pred_most_frequent = np.full_like(y_test, most_common_region)\n",
    "\n",
    "# Évaluation (Balanced Accuracy)\n",
    "balanced_acc_most_frequent = balanced_accuracy_score(y_test, y_pred_most_frequent)\n",
    "\n",
    "# Affichage des résultats\n",
    "print(balanced_acc_most_frequent)"
   ]
  },
  {
   "cell_type": "markdown",
   "metadata": {},
   "source": [
    "# Model 3 : Using comments"
   ]
  },
  {
   "cell_type": "code",
   "execution_count": 12,
   "metadata": {},
   "outputs": [
    {
     "name": "stderr",
     "output_type": "stream",
     "text": [
      "/Users/lucasaljancic/Documents/Master Data/Optimal_trading/optimal_trading/lib/python3.13/site-packages/tqdm/auto.py:21: TqdmWarning: IProgress not found. Please update jupyter and ipywidgets. See https://ipywidgets.readthedocs.io/en/stable/user_install.html\n",
      "  from .autonotebook import tqdm as notebook_tqdm\n"
     ]
    }
   ],
   "source": [
    "# Réimportation des bibliothèques après la réinitialisation de l'état\n",
    "import torch\n",
    "import torch.nn as nn\n",
    "import torch.optim as optim\n",
    "from torch.utils.data import Dataset, DataLoader\n",
    "from transformers import BertTokenizer, BertForSequenceClassification, Trainer, TrainingArguments\n",
    "from sklearn.model_selection import train_test_split\n",
    "from sklearn.preprocessing import LabelEncoder\n",
    "from sklearn.metrics import balanced_accuracy_score\n",
    "import numpy as np\n",
    "import pandas as pd\n",
    "from tqdm import tqdm\n",
    "import matplotlib.pyplot as plt\n",
    "\n",
    "# Vérification de l'utilisation du GPU\n",
    "device = torch.device(\"mps\" if torch.backends.mps.is_available() else \"cpu\")\n",
    "\n",
    "# Chargement et préparation des données\n",
    "np.random.seed(42)\n",
    "\n",
    "data = pd.read_csv(\"data_vivino.tsv\", sep=\"\\t\")\n",
    "#data = data.sample(n=10000, random_state=42)\n",
    "data = data.drop(columns=[\"Unnamed: 0\"], errors=\"ignore\")\n",
    "\n",
    "# Encodage des régions\n",
    "label_encoder = LabelEncoder()\n",
    "data[\"region_encoded\"] = label_encoder.fit_transform(data[\"region\"])\n",
    "data[\"comment\"] = data[\"comment\"].fillna(\"\")\n",
    "\n",
    "# Séparer les données en train, val et test\n",
    "train_texts, test_texts, train_labels, test_labels = train_test_split(\n",
    "    data[\"comment\"].tolist(), data[\"region_encoded\"].tolist(), test_size=0.2, random_state=42)\n",
    "\n",
    "train_texts, val_texts, train_labels, val_labels = train_test_split(\n",
    "    train_texts, train_labels, test_size=0.25, random_state=42)  # 0.25 x 0.8 = 0.2"
   ]
  },
  {
   "cell_type": "markdown",
   "metadata": {},
   "source": [
    "### TF-IDF + Logistic Regression"
   ]
  },
  {
   "cell_type": "code",
   "execution_count": 13,
   "metadata": {},
   "outputs": [
    {
     "name": "stdout",
     "output_type": "stream",
     "text": [
      "TF-IDF + Logistic Regression Balanced Accuracy: 0.3572\n"
     ]
    }
   ],
   "source": [
    "from sklearn.feature_extraction.text import TfidfVectorizer\n",
    "from sklearn.linear_model import LogisticRegression\n",
    "from sklearn.pipeline import Pipeline\n",
    "\n",
    "vectorizer = TfidfVectorizer(max_features=5000, ngram_range=(1,2))\n",
    "clf = LogisticRegression(max_iter=1000)\n",
    "\n",
    "pipeline = Pipeline([(\"tfidf\", vectorizer), (\"clf\", clf)])\n",
    "pipeline.fit(train_texts, train_labels)\n",
    "\n",
    "preds = pipeline.predict(test_texts)\n",
    "balanced_acc_tfidf = balanced_accuracy_score(test_labels, preds)\n",
    "print(f\"TF-IDF + Logistic Regression Balanced Accuracy: {balanced_acc_tfidf:.4f}\")\n"
   ]
  },
  {
   "cell_type": "markdown",
   "metadata": {},
   "source": [
    "### TF-IDF + Random Forest"
   ]
  },
  {
   "cell_type": "code",
   "execution_count": 14,
   "metadata": {},
   "outputs": [
    {
     "name": "stdout",
     "output_type": "stream",
     "text": [
      "TF-IDF + Random Forest Balanced Accuracy: 0.4670\n"
     ]
    }
   ],
   "source": [
    "from sklearn.ensemble import RandomForestClassifier\n",
    "from sklearn.feature_extraction.text import TfidfVectorizer\n",
    "from sklearn.pipeline import Pipeline\n",
    "\n",
    "vectorizer = TfidfVectorizer(max_features=5000, ngram_range=(1,2))\n",
    "rf_clf = RandomForestClassifier(n_estimators=100)\n",
    "pipeline_rf = Pipeline([(\"tfidf\", vectorizer), (\"clf\", rf_clf)])\n",
    "pipeline_rf.fit(train_texts, train_labels)\n",
    "\n",
    "preds_rf = pipeline_rf.predict(test_texts)\n",
    "balanced_acc_rf = balanced_accuracy_score(test_labels, preds_rf)\n",
    "print(f\"TF-IDF + Random Forest Balanced Accuracy: {balanced_acc_rf:.4f}\")\n"
   ]
  },
  {
   "cell_type": "markdown",
   "metadata": {},
   "source": [
    "### BERT "
   ]
  },
  {
   "cell_type": "code",
   "execution_count": 15,
   "metadata": {},
   "outputs": [
    {
     "data": {
      "text/plain": [
       "np.float64(27.754374987585166)"
      ]
     },
     "execution_count": 15,
     "metadata": {},
     "output_type": "execute_result"
    }
   ],
   "source": [
    "avg_word_count = data[\"comment\"].apply(lambda x: len(str(x).split())).mean()\n",
    "avg_word_count\n",
    "\n",
    "## nb tokens usually = 1.5 * nb words in english so nb tokens = 27 * 1.5 = 40\n",
    "## we take max_length = 64 to be sure that we don't cut any comment"
   ]
  },
  {
   "cell_type": "code",
   "execution_count": 20,
   "metadata": {},
   "outputs": [
    {
     "name": "stderr",
     "output_type": "stream",
     "text": [
      "Some weights of BertForSequenceClassification were not initialized from the model checkpoint at bert-base-uncased and are newly initialized: ['classifier.bias', 'classifier.weight']\n",
      "You should probably TRAIN this model on a down-stream task to be able to use it for predictions and inference.\n",
      "Training Epoch 1: 100%|██████████| 3776/3776 [27:25<00:00,  2.30it/s]\n"
     ]
    },
    {
     "name": "stdout",
     "output_type": "stream",
     "text": [
      "Epoch 1: Train Loss = 1.4392, Val Loss = 1.2709\n"
     ]
    }
   ],
   "source": [
    "# Chargement du tokenizer BERT\n",
    "tokenizer = BertTokenizer.from_pretrained(\"bert-base-uncased\")\n",
    "\n",
    "# Encodage des textes\n",
    "class WineReviewDataset(Dataset):\n",
    "    def __init__(self, texts, labels, tokenizer, max_length=64):\n",
    "        self.texts = texts\n",
    "        self.labels = labels\n",
    "        self.tokenizer = tokenizer\n",
    "        self.max_length = max_length\n",
    "\n",
    "    def __len__(self):\n",
    "        return len(self.texts)\n",
    "\n",
    "    def __getitem__(self, idx):\n",
    "        encoding = self.tokenizer(\n",
    "            self.texts[idx], padding=\"max_length\", truncation=True, max_length=self.max_length, return_tensors=\"pt\"\n",
    "        )\n",
    "        item = {key: val.squeeze(0) for key, val in encoding.items()}\n",
    "        item[\"labels\"] = torch.tensor(self.labels[idx], dtype=torch.long)\n",
    "        return item\n",
    "\n",
    "# Création des datasets\n",
    "train_dataset = WineReviewDataset(train_texts, train_labels, tokenizer)\n",
    "val_dataset = WineReviewDataset(val_texts, val_labels, tokenizer)\n",
    "test_dataset = WineReviewDataset(test_texts, test_labels, tokenizer)\n",
    "\n",
    "# Chargement du modèle BERT\n",
    "model = BertForSequenceClassification.from_pretrained(\"bert-base-uncased\", num_labels=len(set(train_labels)))\n",
    "torch.backends.mps.allow_tf32 = True\n",
    "model.to(device)\n",
    "\n",
    "\n",
    "# Entraînement du modèle avec suivi des pertes (train loss & val loss)\n",
    "train_losses = []\n",
    "val_losses = []\n",
    "\n",
    "optimizer = optim.AdamW(model.parameters(), lr=3e-5)\n",
    "loss_fn = nn.CrossEntropyLoss()\n",
    "\n",
    "train_loader = DataLoader(train_dataset, batch_size=16, shuffle=True)\n",
    "val_loader = DataLoader(val_dataset, batch_size=16, shuffle=False)\n",
    "\n",
    "for epoch in range(1):\n",
    "    model.train()\n",
    "    total_train_loss = 0\n",
    "    for batch in tqdm(train_loader, desc=f\"Training Epoch {epoch+1}\"):\n",
    "        batch = {k: v.to(device) for k, v in batch.items()}\n",
    "        optimizer.zero_grad()\n",
    "        outputs = model(**batch)\n",
    "        loss = outputs.loss\n",
    "        loss.backward()\n",
    "        optimizer.step()\n",
    "        total_train_loss += loss.item()\n",
    "\n",
    "    avg_train_loss = total_train_loss / len(train_loader)\n",
    "    train_losses.append(avg_train_loss)\n",
    "\n",
    "    # Validation\n",
    "    model.eval()\n",
    "    total_val_loss = 0\n",
    "    with torch.no_grad():\n",
    "        for batch in val_loader:\n",
    "            batch = {k: v.to(device) for k, v in batch.items()}\n",
    "            outputs = model(**batch)\n",
    "            loss = outputs.loss\n",
    "            total_val_loss += loss.item()\n",
    "\n",
    "    avg_val_loss = total_val_loss / len(val_loader)\n",
    "    val_losses.append(avg_val_loss)\n",
    "\n",
    "    print(f\"Epoch {epoch+1}: Train Loss = {avg_train_loss:.4f}, Val Loss = {avg_val_loss:.4f}\")\n",
    "\n",
    "\n"
   ]
  },
  {
   "cell_type": "code",
   "execution_count": 21,
   "metadata": {},
   "outputs": [
    {
     "name": "stdout",
     "output_type": "stream",
     "text": [
      "Balanced Accuracy Score on Test Set: 0.3967\n"
     ]
    }
   ],
   "source": [
    "# Test du modèle sur l'ensemble de test\n",
    "model.eval()\n",
    "test_loader = DataLoader(test_dataset, batch_size=8, shuffle=False)\n",
    "all_preds = []\n",
    "all_labels = []\n",
    "\n",
    "with torch.no_grad():\n",
    "    for batch in test_loader:\n",
    "        batch = {k: v.to(device) for k, v in batch.items()}\n",
    "        outputs = model(**batch)\n",
    "        logits = outputs.logits\n",
    "        preds = torch.argmax(logits, dim=-1).cpu().numpy()\n",
    "        all_preds.extend(preds)\n",
    "        all_labels.extend(batch[\"labels\"].cpu().numpy())\n",
    "\n",
    "# Calcul du balanced accuracy score\n",
    "balanced_acc = balanced_accuracy_score(all_labels, all_preds)\n",
    "print(f\"Balanced Accuracy Score on Test Set: {balanced_acc:.4f}\")\n"
   ]
  },
  {
   "cell_type": "markdown",
   "metadata": {},
   "source": [
    "## **SUBMISSION**"
   ]
  },
  {
   "cell_type": "code",
   "execution_count": 22,
   "metadata": {},
   "outputs": [
    {
     "data": {
      "text/html": [
       "<div>\n",
       "<style scoped>\n",
       "    .dataframe tbody tr th:only-of-type {\n",
       "        vertical-align: middle;\n",
       "    }\n",
       "\n",
       "    .dataframe tbody tr th {\n",
       "        vertical-align: top;\n",
       "    }\n",
       "\n",
       "    .dataframe thead th {\n",
       "        text-align: right;\n",
       "    }\n",
       "</style>\n",
       "<table border=\"1\" class=\"dataframe\">\n",
       "  <thead>\n",
       "    <tr style=\"text-align: right;\">\n",
       "      <th></th>\n",
       "      <th>id</th>\n",
       "      <th>predicted_region</th>\n",
       "    </tr>\n",
       "  </thead>\n",
       "  <tbody>\n",
       "    <tr>\n",
       "      <th>0</th>\n",
       "      <td>0</td>\n",
       "      <td>Sud Ouest</td>\n",
       "    </tr>\n",
       "    <tr>\n",
       "      <th>1</th>\n",
       "      <td>1</td>\n",
       "      <td>Champagne</td>\n",
       "    </tr>\n",
       "    <tr>\n",
       "      <th>2</th>\n",
       "      <td>2</td>\n",
       "      <td>Bordeaux</td>\n",
       "    </tr>\n",
       "    <tr>\n",
       "      <th>3</th>\n",
       "      <td>3</td>\n",
       "      <td>Vallee du Rhone</td>\n",
       "    </tr>\n",
       "    <tr>\n",
       "      <th>4</th>\n",
       "      <td>4</td>\n",
       "      <td>Alsace</td>\n",
       "    </tr>\n",
       "  </tbody>\n",
       "</table>\n",
       "</div>"
      ],
      "text/plain": [
       "   id predicted_region\n",
       "0   0        Sud Ouest\n",
       "1   1        Champagne\n",
       "2   2         Bordeaux\n",
       "3   3  Vallee du Rhone\n",
       "4   4           Alsace"
      ]
     },
     "execution_count": 22,
     "metadata": {},
     "output_type": "execute_result"
    }
   ],
   "source": [
    "# Create DataFrame for submission\n",
    "submission_df = pd.DataFrame({\n",
    "    \"id\": range(len(all_preds)),  # Generate IDs if required\n",
    "    \"predicted_region\": all_preds\n",
    "})\n",
    "\n",
    "# Decode region labels\n",
    "submission_df[\"predicted_region\"] = submission_df[\"predicted_region\"].apply(lambda x: label_encoder.inverse_transform([x])[0])\n",
    "\n",
    "# Save to CSV\n",
    "submission_file = \"submission.csv\"\n",
    "submission_df.to_csv(submission_file, index=False)\n",
    "\n",
    "# Show the first few rows\n",
    "submission_df.head()\n"
   ]
  },
  {
   "cell_type": "markdown",
   "metadata": {},
   "source": [
    "## **Good luck for this competition !** "
   ]
  },
  {
   "cell_type": "markdown",
   "metadata": {},
   "source": [
    "<div style=\"display: flex; justify-content: center;\">\n",
    "    <img src=\"img/5.jpg\" alt=\"Image 3\" style=\"width:60%\">\n",
    "</div>"
   ]
  }
 ],
 "metadata": {
  "kernelspec": {
   "display_name": "base",
   "language": "python",
   "name": "python3"
  },
  "language_info": {
   "codemirror_mode": {
    "name": "ipython",
    "version": 3
   },
   "file_extension": ".py",
   "mimetype": "text/x-python",
   "name": "python",
   "nbconvert_exporter": "python",
   "pygments_lexer": "ipython3",
   "version": "3.12.5"
  }
 },
 "nbformat": 4,
 "nbformat_minor": 2
}
